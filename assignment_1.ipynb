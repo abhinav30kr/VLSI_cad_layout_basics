{
 "cells": [
  {
   "cell_type": "code",
   "execution_count": 413,
   "id": "15bd6d1e",
   "metadata": {},
   "outputs": [
    {
     "name": "stdout",
     "output_type": "stream",
     "text": [
      "\u001b[33mWARNING: Skipping /Library/Frameworks/Python.framework/Versions/3.11/lib/python3.11/site-packages/numpy-1.24.1.dist-info due to invalid metadata entry 'name'\u001b[0m\u001b[33m\n",
      "\u001b[0m\u001b[33mWARNING: Skipping /Library/Frameworks/Python.framework/Versions/3.11/lib/python3.11/site-packages/numpy-1.24.1.dist-info due to invalid metadata entry 'name'\u001b[0m\u001b[33m\n",
      "\u001b[0mCollecting ordered_set\n",
      "  Downloading ordered_set-4.1.0-py3-none-any.whl (7.6 kB)\n",
      "\u001b[33mWARNING: Skipping /Library/Frameworks/Python.framework/Versions/3.11/lib/python3.11/site-packages/numpy-1.24.1.dist-info due to invalid metadata entry 'name'\u001b[0m\u001b[33m\n",
      "\u001b[0mInstalling collected packages: ordered_set\n",
      "Successfully installed ordered_set-4.1.0\n",
      "\u001b[33mWARNING: Skipping /Library/Frameworks/Python.framework/Versions/3.11/lib/python3.11/site-packages/numpy-1.24.1.dist-info due to invalid metadata entry 'name'\u001b[0m\u001b[33m\n",
      "\u001b[0m\u001b[33mWARNING: Skipping /Library/Frameworks/Python.framework/Versions/3.11/lib/python3.11/site-packages/numpy-1.24.1.dist-info due to invalid metadata entry 'name'\u001b[0m\u001b[33m\n",
      "\u001b[0m\u001b[33mWARNING: Skipping /Library/Frameworks/Python.framework/Versions/3.11/lib/python3.11/site-packages/numpy-1.24.1.dist-info due to invalid metadata entry 'name'\u001b[0m\u001b[33m\n",
      "\u001b[0m\n",
      "\u001b[1m[\u001b[0m\u001b[34;49mnotice\u001b[0m\u001b[1;39;49m]\u001b[0m\u001b[39;49m A new release of pip is available: \u001b[0m\u001b[31;49m23.2.1\u001b[0m\u001b[39;49m -> \u001b[0m\u001b[32;49m23.3.2\u001b[0m\n",
      "\u001b[1m[\u001b[0m\u001b[34;49mnotice\u001b[0m\u001b[1;39;49m]\u001b[0m\u001b[39;49m To update, run: \u001b[0m\u001b[32;49mpip3.11 install --upgrade pip\u001b[0m\n",
      "Note: you may need to restart the kernel to use updated packages.\n"
     ]
    }
   ],
   "source": [
    "pip install ordered_set"
   ]
  },
  {
   "cell_type": "markdown",
   "id": "a39470bd",
   "metadata": {},
   "source": [
    "# Getting the libraries"
   ]
  },
  {
   "cell_type": "code",
   "execution_count": 565,
   "id": "147bceb3",
   "metadata": {},
   "outputs": [],
   "source": [
    "import numpy as np\n",
    "import matplotlib.pyplot as plt\n",
    "from matplotlib.patches import Rectangle\n",
    "from ordered_set import OrderedSet"
   ]
  },
  {
   "cell_type": "markdown",
   "id": "013abf0e",
   "metadata": {},
   "source": [
    "# Preprocessing the given data\n"
   ]
  },
  {
   "cell_type": "code",
   "execution_count": 566,
   "id": "8772bcf3",
   "metadata": {},
   "outputs": [
    {
     "data": {
      "text/plain": [
       "[[1, 4, 13, 7, 16],\n",
       " [2, 10, 13, 13, 16],\n",
       " [3, 3, 11, 13, 18],\n",
       " [4, 6, 7, 11, 12],\n",
       " [5, 7, 8, 9, 10],\n",
       " [6, 11, 8, 15, 10],\n",
       " [7, 13, 10, 19, 18],\n",
       " [8, 16, 14, 19, 17],\n",
       " [9, 10, 15, 11, 18],\n",
       " [10, 3, 5, 7, 9]]"
      ]
     },
     "execution_count": 566,
     "metadata": {},
     "output_type": "execute_result"
    }
   ],
   "source": [
    "# Opening the file in read mode and reading the data as a string\n",
    "text_file = open(\"test_data.txt\",\"r\")\n",
    "data = text_file.read()\n",
    "\n",
    "# Remove unnecessary characters and split the string on '\\n'\n",
    "data = data.replace('{', '').replace('}', '').replace(',', '').split('\\n')\n",
    "\n",
    "# Convert each string to a list of integers\n",
    "rectangles = [list(map(int, item.split())) for item in data]\n",
    "rectangles"
   ]
  },
  {
   "cell_type": "markdown",
   "id": "7fc5158f",
   "metadata": {},
   "source": [
    "Here, the rectangles is in the form [rectangle_id, left_bottom_corner_x_coordinate, left_bottom_corner_y_coordinate, right_top_corner_x_coordinate, right_top_corner_y_coordinate]"
   ]
  },
  {
   "cell_type": "markdown",
   "id": "8c2d9fb7",
   "metadata": {},
   "source": [
    "# Plotting the given rectangles"
   ]
  },
  {
   "cell_type": "code",
   "execution_count": 571,
   "id": "ccc4b2f7",
   "metadata": {},
   "outputs": [
    {
     "data": {
      "image/png": "[encoded data removed]",
      "text/plain": [
       "<Figure size 640x480 with 1 Axes>"
      ]
     },
     "metadata": {},
     "output_type": "display_data"
    }
   ],
   "source": [
    "# Create a figure and axis\n",
    "fig, ax = plt.subplots()\n",
    "\n",
    "# Plot each rectangle\n",
    "for i,rect in enumerate(rectangles):\n",
    "    rect_id, x1, y1, x2, y2 = rect\n",
    "    width = x2 - x1\n",
    "    height = y2 - y1\n",
    "\n",
    "    #Plot a line before plotting a rectangle with 0 thickness.\n",
    "    ax.plot([0, 10],[0, 10], lw=0) \n",
    "    # Plot the rectangle\n",
    "    rect_plot = plt.Rectangle((x1, y1), width, height, linewidth=1, edgecolor='b', facecolor='none')\n",
    "    ax.add_patch(rect_plot)\n",
    "\n",
    "    # Annotate with the rectangle number\n",
    "    plt.annotate(f'{rect_id}', (x1 + width/2, y1 + height/2), color='r', weight='bold',\n",
    "                 fontsize=9, ha='center', va='center')\n",
    "plt.grid(True,linewidth=0.3)\n",
    "plt.xticks(np.arange(0, 20, 1))  # Set x-axis ticks with 1-unit spacing\n",
    "plt.yticks(np.arange(0, 20, 1))  # Set y-axis ticks with 1-unit spacing\n",
    "plt.show()"
   ]
  },
  {
   "cell_type": "markdown",
   "id": "cf4cfac8",
   "metadata": {},
   "source": [
    "## Function to find all the rectangles enclosing the given point (x,y)"
   ]
  },
  {
   "cell_type": "code",
   "execution_count": 575,
   "id": "fe6f085f",
   "metadata": {},
   "outputs": [],
   "source": [
    "def point_finding(x,y):\n",
    "    #creating an empty set\n",
    "    encl_id = OrderedSet()\n",
    "    for i,rect in enumerate(rectangles):\n",
    "        rect_id, x1, y1, x2, y2 = rect\n",
    "        #comparing the coordinates\n",
    "        if x>x1 and x<x2 and y>y1 and y<y2:\n",
    "            encl_id.add(rect_id)\n",
    "    return encl_id"
   ]
  },
  {
   "cell_type": "markdown",
   "id": "c2b01c82",
   "metadata": {},
   "source": [
    "In the above function, it is assumed that if the point lies on the edge of a rectangle then that rectangle is not considered as an enclosing rectangle."
   ]
  },
  {
   "cell_type": "code",
   "execution_count": 576,
   "id": "972d87d5",
   "metadata": {},
   "outputs": [
    {
     "data": {
      "text/plain": [
       "OrderedSet([2, 3, 9])"
      ]
     },
     "execution_count": 576,
     "metadata": {},
     "output_type": "execute_result"
    }
   ],
   "source": [
    "#Example\n",
    "x = 10.2\n",
    "y = 15.2\n",
    "x = point_finding(x,y)\n",
    "x"
   ]
  },
  {
   "cell_type": "markdown",
   "id": "cbb4598d",
   "metadata": {},
   "source": [
    "## Function to give all the rectangles that overlap with any rectangle"
   ]
  },
  {
   "cell_type": "code",
   "execution_count": 593,
   "id": "08eb55a8",
   "metadata": {},
   "outputs": [],
   "source": [
    "def overlap():\n",
    "    #creating an overlap list\n",
    "    overlap_list = []\n",
    "    for i,rect in enumerate(rectangles):\n",
    "        rect_id, x1, y1, x2, y2 = rect\n",
    "        width = x2 - x1\n",
    "        height = y2 - y1\n",
    "        #creating an empty OrderedSet, to maintain the order and to remove duplicate elements.\n",
    "        temp = OrderedSet()  \n",
    "        #adding the id of the rectangle whose overlapping rectangles are to be found\n",
    "        temp.add(rect_id)\n",
    "        #checking for the rectangles that enclose the lower left corner of the given rectangle.\n",
    "        temp = temp.union(point_finding(x1, y1))\n",
    "        #checking for the rectangles that enclose the lower right corner of the given rectangle.\n",
    "        temp = temp.union(point_finding(x1+width, y1))\n",
    "        #checking for the rectangles that enclose the upper left corner of the given rectangle.\n",
    "        temp = temp.union(point_finding(x1, y1+height))\n",
    "        #checking for the rectangles that enclose the upper right corner of the given rectangle.\n",
    "        temp = temp.union(point_finding(x2, y2))\n",
    "        overlap_list.append(temp)\n",
    "    print(overlap_list)\n",
    "    print('\\n')\n",
    "    #below loop is to give all rectangles that overlap the given rectangle \n",
    "    #before loop and after loop results can be verified.\n",
    "    for i in range(len(overlap_list)):\n",
    "            for j in range(1, len(overlap_list[i])):\n",
    "                index_to_update = overlap_list[i][j] - 1\n",
    "                if 0 <= index_to_update < len(overlap_list):\n",
    "                    overlap_list[index_to_update].update([overlap_list[i][0]])\n",
    "    return overlap_list"
   ]
  },
  {
   "cell_type": "markdown",
   "id": "3f94d7b9",
   "metadata": {},
   "source": [
    "Eg. OrderedSet([5, 7, 9, 12]), OrderedSet([6, 10, 12]) implies that rectangle 5 overlaps with rectangles 7, 9 and 12; rectangle 6 overlaps with rectangles 10 and 12."
   ]
  },
  {
   "cell_type": "code",
   "execution_count": 594,
   "id": "434862af",
   "metadata": {},
   "outputs": [
    {
     "name": "stdout",
     "output_type": "stream",
     "text": [
      "[OrderedSet([1, 3]), OrderedSet([2, 3]), OrderedSet([3]), OrderedSet([4, 10, 3]), OrderedSet([5, 4]), OrderedSet([6]), OrderedSet([7]), OrderedSet([8, 7]), OrderedSet([9, 3, 2]), OrderedSet([10, 4])]\n",
      "\n",
      "\n",
      "[OrderedSet([1, 3]), OrderedSet([2, 3, 9]), OrderedSet([3, 1, 2, 4, 9]), OrderedSet([4, 10, 3, 5]), OrderedSet([5, 4]), OrderedSet([6]), OrderedSet([7, 8]), OrderedSet([8, 7]), OrderedSet([9, 3, 2]), OrderedSet([10, 4])]\n"
     ]
    }
   ],
   "source": [
    "overlap_list = overlap()\n",
    "print(overlap_list)"
   ]
  },
  {
   "cell_type": "markdown",
   "id": "1c90ffb1",
   "metadata": {},
   "source": [
    "# Function to give all the rectangles that don't overlap with any rectangle.\n"
   ]
  },
  {
   "cell_type": "code",
   "execution_count": 589,
   "id": "81c2b727",
   "metadata": {},
   "outputs": [],
   "source": [
    "def non_overlap():\n",
    "    non_overlap_list = set()\n",
    "    for i in range(len(overlap_list)):\n",
    "        if(len(overlap_list[i])==1):\n",
    "            non_overlap_list.add(overlap_list[i][0])\n",
    "    return non_overlap_list"
   ]
  },
  {
   "cell_type": "code",
   "execution_count": 590,
   "id": "37d734c2",
   "metadata": {},
   "outputs": [
    {
     "name": "stdout",
     "output_type": "stream",
     "text": [
      "{6}\n"
     ]
    }
   ],
   "source": [
    "non_overlap_list = non_overlap()\n",
    "print(non_overlap_list)"
   ]
  },
  {
   "cell_type": "markdown",
   "id": "3511d35d",
   "metadata": {},
   "source": [
    "### Function(similar to point_finding) to check if the point (x,y) lies inside or on the edge of the rectangle with the given id idx"
   ]
  },
  {
   "cell_type": "code",
   "execution_count": 596,
   "id": "16c84d10",
   "metadata": {},
   "outputs": [],
   "source": [
    "def point_check(x,y,idx):\n",
    "    rec = rectangles[idx][0] \n",
    "    x1 = rectangles[idx][1]\n",
    "    y1 = rectangles[idx][2]\n",
    "    x2 = rectangles[idx][3]\n",
    "    y2 = rectangles[idx][4]\n",
    "    if x>=x1 and x<=x2 and y>=y1 and y<=y2:\n",
    "        return True\n",
    "    return False"
   ]
  },
  {
   "cell_type": "markdown",
   "id": "a9ed469c",
   "metadata": {},
   "source": [
    "## Function to find all the rectangles that is being contained by a rectangle"
   ]
  },
  {
   "cell_type": "code",
   "execution_count": 605,
   "id": "b764cbfc",
   "metadata": {},
   "outputs": [],
   "source": [
    "def rect_contained1():\n",
    "    #creating a rect_contained list\n",
    "    rect_contained_list = []\n",
    "    #taking the overlap list from above result\n",
    "    for i in range(len(overlap_list)):  \n",
    "            temp = []\n",
    "            temp.append(overlap_list[i][0])\n",
    "            for j in range(1, len(overlap_list[i])):\n",
    "                rect_id = overlap_list[i][j] - 1\n",
    "                x1, y1, x2, y2 = rectangles[rect_id][1:5]\n",
    "                width = x2 - x1\n",
    "                height = y2 - y1\n",
    "                # Checking if the overlap condition is met\n",
    "                lbc = point_check2(x1, y1,i)\n",
    "                rbc =  point_check2(x1 + width, y1,i)\n",
    "                ltc = point_check2(x2, y1 + height,i)\n",
    "                rtc = point_check2(x2, y2,i)\n",
    "                \n",
    "                \n",
    "                if lbc and rbc and rtc and ltc:\n",
    "                    temp.append(overlap_list[i][j]) \n",
    "            rect_contained_list.append(temp)\n",
    "\n",
    "    return rect_contained_list\n"
   ]
  },
  {
   "cell_type": "code",
   "execution_count": 606,
   "id": "5593b779",
   "metadata": {},
   "outputs": [
    {
     "name": "stdout",
     "output_type": "stream",
     "text": [
      "[[1], [2], [3, 1, 2, 9], [4, 5], [5], [6], [7, 8], [8], [9], [10]]\n"
     ]
    }
   ],
   "source": [
    "rect_contained_list = rect_contained1()\n",
    "print(rect_contained_list)"
   ]
  },
  {
   "cell_type": "markdown",
   "id": "4616253d",
   "metadata": {},
   "source": [
    "## Function to find all the rectangles that is abutting a rectangle"
   ]
  },
  {
   "cell_type": "code",
   "execution_count": 607,
   "id": "a41fb185",
   "metadata": {},
   "outputs": [],
   "source": [
    "def abutting():\n",
    "    #creating an abutting list\n",
    "    abutting = []\n",
    "    for i,rect in enumerate(rectangles):\n",
    "        rect_id, x1, y1, x2, y2 = rect\n",
    "        height = y2 - y1\n",
    "        width = x2 - x1\n",
    "        height = y2 - y1\n",
    "        width = x2 - x1\n",
    "        for j,rect_nbr in enumerate(rectangles):\n",
    "            if j!= i:\n",
    "                rect_nbr_id, x1_nbr, y1_nbr, x2_nbr, y2_nbr = rect_nbr\n",
    "                height_nbr = y2_nbr - y1_nbr\n",
    "                width_nbr = x2_nbr - x1_nbr\n",
    "                temp = []\n",
    "                #applying the condition\n",
    "                if x1_nbr == x2 and not(y1_nbr>y2 and y2_nbr>y2) and not(y2_nbr<y1 and y1_nbr<y1):\n",
    "                    temp.extend([rect_id, \"e\", rect_nbr_id])\n",
    "                if x2_nbr == x1 and not(y1_nbr>y2 and y2_nbr>y2) and not(y2_nbr<y1 and y1_nbr<y1):\n",
    "                    temp.extend([rect_id, \"w\", rect_nbr_id])\n",
    "                if y1_nbr == y2 and not(x1_nbr>x2 and x2_nbr>x2) and not(x2_nbr<x1 and x1_nbr<y1):\n",
    "                    temp.extend([rect_id, \"n\", rect_nbr_id])\n",
    "                if y2_nbr == y1 and not(x1_nbr>x2 and x2_nbr>x2) and not(x2_nbr<x1 and x1_nbr<x1):\n",
    "                    temp.extend([rect_id, \"s\", rect_nbr_id])\n",
    "                \n",
    "                if temp:\n",
    "                    abutting.append(temp)\n",
    "    return abutting\n",
    "                "
   ]
  },
  {
   "cell_type": "markdown",
   "id": "3b8aac80",
   "metadata": {},
   "source": [
    "Eg: [[5, n, 7], [4, e, 3]] implies that rectangle 5 has rectangle 7 abutting it on the northern side, rectangle 4 has rectangle 3 abutting it on the eastern side."
   ]
  },
  {
   "cell_type": "code",
   "execution_count": 609,
   "id": "1284a045",
   "metadata": {},
   "outputs": [
    {
     "name": "stdout",
     "output_type": "stream",
     "text": [
      "[[2, 'e', 7], [3, 'e', 7], [4, 'e', 6], [5, 'w', 10], [6, 'w', 4], [6, 'n', 7], [7, 'w', 2], [7, 'w', 3], [7, 's', 6], [10, 'e', 5]]\n"
     ]
    }
   ],
   "source": [
    "abutting_list = abutting()\n",
    "print(abutting_list)"
   ]
  },
  {
   "cell_type": "code",
   "execution_count": 545,
   "id": "df944416",
   "metadata": {},
   "outputs": [],
   "source": []
  },
  {
   "cell_type": "code",
   "execution_count": null,
   "id": "f2a670c3",
   "metadata": {},
   "outputs": [],
   "source": []
  },
  {
   "cell_type": "code",
   "execution_count": null,
   "id": "268283d1",
   "metadata": {},
   "outputs": [],
   "source": []
  }
 ],
 "metadata": {
  "kernelspec": {
   "display_name": "Python 3 (ipykernel)",
   "language": "python",
   "name": "python3"
  },
  "language_info": {
   "codemirror_mode": {
    "name": "ipython",
    "version": 3
   },
   "file_extension": ".py",
   "mimetype": "text/x-python",
   "name": "python",
   "nbconvert_exporter": "python",
   "pygments_lexer": "ipython3",
   "version": "3.11.4"
  }
 },
 "nbformat": 4,
 "nbformat_minor": 5
}
